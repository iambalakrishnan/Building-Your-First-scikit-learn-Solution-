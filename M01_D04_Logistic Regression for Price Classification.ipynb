{
 "cells": [
  {
   "cell_type": "code",
   "execution_count": 1,
   "id": "718923a0",
   "metadata": {},
   "outputs": [],
   "source": [
    "import numpy as np\n",
    "import pandas as pd\n",
    "from matplotlib import pyplot as plt\n",
    "import seaborn as sns"
   ]
  },
  {
   "cell_type": "code",
   "execution_count": 2,
   "id": "e3724c45",
   "metadata": {},
   "outputs": [
    {
     "data": {
      "text/html": [
       "<div>\n",
       "<style scoped>\n",
       "    .dataframe tbody tr th:only-of-type {\n",
       "        vertical-align: middle;\n",
       "    }\n",
       "\n",
       "    .dataframe tbody tr th {\n",
       "        vertical-align: top;\n",
       "    }\n",
       "\n",
       "    .dataframe thead th {\n",
       "        text-align: right;\n",
       "    }\n",
       "</style>\n",
       "<table border=\"1\" class=\"dataframe\">\n",
       "  <thead>\n",
       "    <tr style=\"text-align: right;\">\n",
       "      <th></th>\n",
       "      <th>longitude</th>\n",
       "      <th>latitude</th>\n",
       "      <th>housing_median_age</th>\n",
       "      <th>total_rooms</th>\n",
       "      <th>total_bedrooms</th>\n",
       "      <th>population</th>\n",
       "      <th>households</th>\n",
       "      <th>median_income</th>\n",
       "      <th>median_house_value</th>\n",
       "      <th>ocean_proximity</th>\n",
       "    </tr>\n",
       "  </thead>\n",
       "  <tbody>\n",
       "    <tr>\n",
       "      <th>6231</th>\n",
       "      <td>-117.93</td>\n",
       "      <td>34.07</td>\n",
       "      <td>36.0</td>\n",
       "      <td>1207.0</td>\n",
       "      <td>209.0</td>\n",
       "      <td>683.0</td>\n",
       "      <td>213.0</td>\n",
       "      <td>5.3559</td>\n",
       "      <td>207300.0</td>\n",
       "      <td>&lt;1H OCEAN</td>\n",
       "    </tr>\n",
       "    <tr>\n",
       "      <th>6603</th>\n",
       "      <td>-118.16</td>\n",
       "      <td>34.19</td>\n",
       "      <td>44.0</td>\n",
       "      <td>2195.0</td>\n",
       "      <td>449.0</td>\n",
       "      <td>1377.0</td>\n",
       "      <td>417.0</td>\n",
       "      <td>3.5887</td>\n",
       "      <td>153500.0</td>\n",
       "      <td>&lt;1H OCEAN</td>\n",
       "    </tr>\n",
       "    <tr>\n",
       "      <th>14591</th>\n",
       "      <td>-117.17</td>\n",
       "      <td>32.82</td>\n",
       "      <td>24.0</td>\n",
       "      <td>1623.0</td>\n",
       "      <td>417.0</td>\n",
       "      <td>911.0</td>\n",
       "      <td>397.0</td>\n",
       "      <td>2.7401</td>\n",
       "      <td>198100.0</td>\n",
       "      <td>NEAR OCEAN</td>\n",
       "    </tr>\n",
       "    <tr>\n",
       "      <th>4398</th>\n",
       "      <td>-118.28</td>\n",
       "      <td>34.08</td>\n",
       "      <td>42.0</td>\n",
       "      <td>1618.0</td>\n",
       "      <td>522.0</td>\n",
       "      <td>1454.0</td>\n",
       "      <td>440.0</td>\n",
       "      <td>3.1607</td>\n",
       "      <td>182000.0</td>\n",
       "      <td>&lt;1H OCEAN</td>\n",
       "    </tr>\n",
       "    <tr>\n",
       "      <th>7585</th>\n",
       "      <td>-118.22</td>\n",
       "      <td>33.90</td>\n",
       "      <td>40.0</td>\n",
       "      <td>1802.0</td>\n",
       "      <td>496.0</td>\n",
       "      <td>2096.0</td>\n",
       "      <td>468.0</td>\n",
       "      <td>2.3542</td>\n",
       "      <td>97900.0</td>\n",
       "      <td>&lt;1H OCEAN</td>\n",
       "    </tr>\n",
       "  </tbody>\n",
       "</table>\n",
       "</div>"
      ],
      "text/plain": [
       "       longitude  latitude  housing_median_age  total_rooms  total_bedrooms  \\\n",
       "6231     -117.93     34.07                36.0       1207.0           209.0   \n",
       "6603     -118.16     34.19                44.0       2195.0           449.0   \n",
       "14591    -117.17     32.82                24.0       1623.0           417.0   \n",
       "4398     -118.28     34.08                42.0       1618.0           522.0   \n",
       "7585     -118.22     33.90                40.0       1802.0           496.0   \n",
       "\n",
       "       population  households  median_income  median_house_value  \\\n",
       "6231        683.0       213.0         5.3559            207300.0   \n",
       "6603       1377.0       417.0         3.5887            153500.0   \n",
       "14591       911.0       397.0         2.7401            198100.0   \n",
       "4398       1454.0       440.0         3.1607            182000.0   \n",
       "7585       2096.0       468.0         2.3542             97900.0   \n",
       "\n",
       "      ocean_proximity  \n",
       "6231        <1H OCEAN  \n",
       "6603        <1H OCEAN  \n",
       "14591      NEAR OCEAN  \n",
       "4398        <1H OCEAN  \n",
       "7585        <1H OCEAN  "
      ]
     },
     "execution_count": 2,
     "metadata": {},
     "output_type": "execute_result"
    }
   ],
   "source": [
    "data = pd.read_csv('housing.csv')\n",
    "data.sample(5)"
   ]
  },
  {
   "cell_type": "code",
   "execution_count": 3,
   "id": "61846964",
   "metadata": {},
   "outputs": [],
   "source": [
    "data = data.dropna()"
   ]
  },
  {
   "cell_type": "code",
   "execution_count": 4,
   "id": "d4b35a7c",
   "metadata": {},
   "outputs": [
    {
     "data": {
      "text/plain": [
       "(20433, 10)"
      ]
     },
     "execution_count": 4,
     "metadata": {},
     "output_type": "execute_result"
    }
   ],
   "source": [
    "data.shape"
   ]
  },
  {
   "cell_type": "code",
   "execution_count": 6,
   "id": "9ccb3f73",
   "metadata": {},
   "outputs": [
    {
     "data": {
      "text/plain": [
       "longitude             958\n",
       "latitude              958\n",
       "housing_median_age    958\n",
       "total_rooms           958\n",
       "total_bedrooms        958\n",
       "population            958\n",
       "households            958\n",
       "median_income         958\n",
       "median_house_value    958\n",
       "ocean_proximity       958\n",
       "dtype: int64"
      ]
     },
     "execution_count": 6,
     "metadata": {},
     "output_type": "execute_result"
    }
   ],
   "source": [
    "data.loc[data['median_house_value'] == 500001].count()"
   ]
  },
  {
   "cell_type": "code",
   "execution_count": 7,
   "id": "135441f7",
   "metadata": {},
   "outputs": [],
   "source": [
    "data = data.drop(data.loc[data['median_house_value'] == 500001].index)"
   ]
  },
  {
   "cell_type": "code",
   "execution_count": 8,
   "id": "1d1fa0ca",
   "metadata": {},
   "outputs": [
    {
     "data": {
      "text/plain": [
       "(19475, 10)"
      ]
     },
     "execution_count": 8,
     "metadata": {},
     "output_type": "execute_result"
    }
   ],
   "source": [
    "data.shape"
   ]
  },
  {
   "cell_type": "code",
   "execution_count": 9,
   "id": "bf7971ab",
   "metadata": {},
   "outputs": [
    {
     "data": {
      "text/plain": [
       "array(['NEAR BAY', '<1H OCEAN', 'INLAND', 'NEAR OCEAN', 'ISLAND'],\n",
       "      dtype=object)"
      ]
     },
     "execution_count": 9,
     "metadata": {},
     "output_type": "execute_result"
    }
   ],
   "source": [
    "data['ocean_proximity'].unique()"
   ]
  },
  {
   "cell_type": "code",
   "execution_count": 10,
   "id": "65e4377e",
   "metadata": {},
   "outputs": [],
   "source": [
    "data = pd.get_dummies(data, columns=['ocean_proximity'])"
   ]
  },
  {
   "cell_type": "code",
   "execution_count": 11,
   "id": "16d1a83f",
   "metadata": {},
   "outputs": [
    {
     "data": {
      "text/plain": [
       "(19475, 14)"
      ]
     },
     "execution_count": 11,
     "metadata": {},
     "output_type": "execute_result"
    }
   ],
   "source": [
    "data.shape"
   ]
  },
  {
   "cell_type": "code",
   "execution_count": 14,
   "id": "43e91dd9",
   "metadata": {},
   "outputs": [
    {
     "data": {
      "text/html": [
       "<div>\n",
       "<style scoped>\n",
       "    .dataframe tbody tr th:only-of-type {\n",
       "        vertical-align: middle;\n",
       "    }\n",
       "\n",
       "    .dataframe tbody tr th {\n",
       "        vertical-align: top;\n",
       "    }\n",
       "\n",
       "    .dataframe thead th {\n",
       "        text-align: right;\n",
       "    }\n",
       "</style>\n",
       "<table border=\"1\" class=\"dataframe\">\n",
       "  <thead>\n",
       "    <tr style=\"text-align: right;\">\n",
       "      <th></th>\n",
       "      <th>longitude</th>\n",
       "      <th>latitude</th>\n",
       "      <th>housing_median_age</th>\n",
       "      <th>total_rooms</th>\n",
       "      <th>total_bedrooms</th>\n",
       "      <th>population</th>\n",
       "      <th>households</th>\n",
       "      <th>median_income</th>\n",
       "      <th>median_house_value</th>\n",
       "      <th>ocean_proximity_&lt;1H OCEAN</th>\n",
       "      <th>ocean_proximity_INLAND</th>\n",
       "      <th>ocean_proximity_ISLAND</th>\n",
       "      <th>ocean_proximity_NEAR BAY</th>\n",
       "      <th>ocean_proximity_NEAR OCEAN</th>\n",
       "    </tr>\n",
       "  </thead>\n",
       "  <tbody>\n",
       "    <tr>\n",
       "      <th>3966</th>\n",
       "      <td>-118.57</td>\n",
       "      <td>34.20</td>\n",
       "      <td>36.0</td>\n",
       "      <td>2559.0</td>\n",
       "      <td>469.0</td>\n",
       "      <td>1358.0</td>\n",
       "      <td>445.0</td>\n",
       "      <td>4.5568</td>\n",
       "      <td>201500.0</td>\n",
       "      <td>1</td>\n",
       "      <td>0</td>\n",
       "      <td>0</td>\n",
       "      <td>0</td>\n",
       "      <td>0</td>\n",
       "    </tr>\n",
       "    <tr>\n",
       "      <th>12831</th>\n",
       "      <td>-121.44</td>\n",
       "      <td>38.68</td>\n",
       "      <td>19.0</td>\n",
       "      <td>2476.0</td>\n",
       "      <td>534.0</td>\n",
       "      <td>1355.0</td>\n",
       "      <td>463.0</td>\n",
       "      <td>2.0625</td>\n",
       "      <td>94400.0</td>\n",
       "      <td>0</td>\n",
       "      <td>1</td>\n",
       "      <td>0</td>\n",
       "      <td>0</td>\n",
       "      <td>0</td>\n",
       "    </tr>\n",
       "    <tr>\n",
       "      <th>11201</th>\n",
       "      <td>-117.92</td>\n",
       "      <td>33.83</td>\n",
       "      <td>17.0</td>\n",
       "      <td>382.0</td>\n",
       "      <td>86.0</td>\n",
       "      <td>272.0</td>\n",
       "      <td>81.0</td>\n",
       "      <td>1.4250</td>\n",
       "      <td>212500.0</td>\n",
       "      <td>1</td>\n",
       "      <td>0</td>\n",
       "      <td>0</td>\n",
       "      <td>0</td>\n",
       "      <td>0</td>\n",
       "    </tr>\n",
       "    <tr>\n",
       "      <th>20444</th>\n",
       "      <td>-118.90</td>\n",
       "      <td>34.30</td>\n",
       "      <td>13.0</td>\n",
       "      <td>5591.0</td>\n",
       "      <td>1013.0</td>\n",
       "      <td>3188.0</td>\n",
       "      <td>971.0</td>\n",
       "      <td>5.5925</td>\n",
       "      <td>208600.0</td>\n",
       "      <td>1</td>\n",
       "      <td>0</td>\n",
       "      <td>0</td>\n",
       "      <td>0</td>\n",
       "      <td>0</td>\n",
       "    </tr>\n",
       "    <tr>\n",
       "      <th>13614</th>\n",
       "      <td>-117.26</td>\n",
       "      <td>34.13</td>\n",
       "      <td>37.0</td>\n",
       "      <td>2403.0</td>\n",
       "      <td>550.0</td>\n",
       "      <td>1234.0</td>\n",
       "      <td>493.0</td>\n",
       "      <td>2.0000</td>\n",
       "      <td>72100.0</td>\n",
       "      <td>0</td>\n",
       "      <td>1</td>\n",
       "      <td>0</td>\n",
       "      <td>0</td>\n",
       "      <td>0</td>\n",
       "    </tr>\n",
       "  </tbody>\n",
       "</table>\n",
       "</div>"
      ],
      "text/plain": [
       "       longitude  latitude  housing_median_age  total_rooms  total_bedrooms  \\\n",
       "3966     -118.57     34.20                36.0       2559.0           469.0   \n",
       "12831    -121.44     38.68                19.0       2476.0           534.0   \n",
       "11201    -117.92     33.83                17.0        382.0            86.0   \n",
       "20444    -118.90     34.30                13.0       5591.0          1013.0   \n",
       "13614    -117.26     34.13                37.0       2403.0           550.0   \n",
       "\n",
       "       population  households  median_income  median_house_value  \\\n",
       "3966       1358.0       445.0         4.5568            201500.0   \n",
       "12831      1355.0       463.0         2.0625             94400.0   \n",
       "11201       272.0        81.0         1.4250            212500.0   \n",
       "20444      3188.0       971.0         5.5925            208600.0   \n",
       "13614      1234.0       493.0         2.0000             72100.0   \n",
       "\n",
       "       ocean_proximity_<1H OCEAN  ocean_proximity_INLAND  \\\n",
       "3966                           1                       0   \n",
       "12831                          0                       1   \n",
       "11201                          1                       0   \n",
       "20444                          1                       0   \n",
       "13614                          0                       1   \n",
       "\n",
       "       ocean_proximity_ISLAND  ocean_proximity_NEAR BAY  \\\n",
       "3966                        0                         0   \n",
       "12831                       0                         0   \n",
       "11201                       0                         0   \n",
       "20444                       0                         0   \n",
       "13614                       0                         0   \n",
       "\n",
       "       ocean_proximity_NEAR OCEAN  \n",
       "3966                            0  \n",
       "12831                           0  \n",
       "11201                           0  \n",
       "20444                           0  \n",
       "13614                           0  "
      ]
     },
     "execution_count": 14,
     "metadata": {},
     "output_type": "execute_result"
    }
   ],
   "source": [
    "data.sample(5)"
   ]
  },
  {
   "cell_type": "code",
   "execution_count": 15,
   "id": "5e0dc196",
   "metadata": {},
   "outputs": [
    {
     "data": {
      "text/plain": [
       "173800.0"
      ]
     },
     "execution_count": 15,
     "metadata": {},
     "output_type": "execute_result"
    }
   ],
   "source": [
    "#We can use the same dataset by calculating median of housing prices and then trying to predict whether a particular\n",
    "#neighborhood will have a house above the median value or below the median value\n",
    "\n",
    "#This is how we simply convert a regression problem into a classification probelm \n",
    "\n",
    "\n",
    "median = data['median_house_value'].median()\n",
    "median"
   ]
  },
  {
   "cell_type": "code",
   "execution_count": 17,
   "id": "db591548",
   "metadata": {},
   "outputs": [],
   "source": [
    "#We'll now add a new column in our dataset called above median \n",
    "\n",
    "data['above_median'] = (data['median_house_value'] - median) > 0\n",
    "\n",
    "# above_median will contain boolean value it will have True if particular house is above median \n",
    "# otherwise it'll be False"
   ]
  },
  {
   "cell_type": "code",
   "execution_count": 18,
   "id": "f830f5cd",
   "metadata": {},
   "outputs": [
    {
     "data": {
      "text/plain": [
       "(19475, 15)"
      ]
     },
     "execution_count": 18,
     "metadata": {},
     "output_type": "execute_result"
    }
   ],
   "source": [
    "data.shape"
   ]
  },
  {
   "cell_type": "code",
   "execution_count": 21,
   "id": "3db8e3a1",
   "metadata": {},
   "outputs": [
    {
     "data": {
      "text/html": [
       "<div>\n",
       "<style scoped>\n",
       "    .dataframe tbody tr th:only-of-type {\n",
       "        vertical-align: middle;\n",
       "    }\n",
       "\n",
       "    .dataframe tbody tr th {\n",
       "        vertical-align: top;\n",
       "    }\n",
       "\n",
       "    .dataframe thead th {\n",
       "        text-align: right;\n",
       "    }\n",
       "</style>\n",
       "<table border=\"1\" class=\"dataframe\">\n",
       "  <thead>\n",
       "    <tr style=\"text-align: right;\">\n",
       "      <th></th>\n",
       "      <th>longitude</th>\n",
       "      <th>latitude</th>\n",
       "      <th>housing_median_age</th>\n",
       "      <th>total_rooms</th>\n",
       "      <th>total_bedrooms</th>\n",
       "      <th>population</th>\n",
       "      <th>households</th>\n",
       "      <th>median_income</th>\n",
       "      <th>median_house_value</th>\n",
       "      <th>ocean_proximity_&lt;1H OCEAN</th>\n",
       "      <th>ocean_proximity_INLAND</th>\n",
       "      <th>ocean_proximity_ISLAND</th>\n",
       "      <th>ocean_proximity_NEAR BAY</th>\n",
       "      <th>ocean_proximity_NEAR OCEAN</th>\n",
       "      <th>above_median</th>\n",
       "    </tr>\n",
       "  </thead>\n",
       "  <tbody>\n",
       "    <tr>\n",
       "      <th>16972</th>\n",
       "      <td>-122.31</td>\n",
       "      <td>37.56</td>\n",
       "      <td>45.0</td>\n",
       "      <td>1685.0</td>\n",
       "      <td>321.0</td>\n",
       "      <td>815.0</td>\n",
       "      <td>314.0</td>\n",
       "      <td>4.2955</td>\n",
       "      <td>309700.0</td>\n",
       "      <td>0</td>\n",
       "      <td>0</td>\n",
       "      <td>0</td>\n",
       "      <td>0</td>\n",
       "      <td>1</td>\n",
       "      <td>True</td>\n",
       "    </tr>\n",
       "    <tr>\n",
       "      <th>15801</th>\n",
       "      <td>-122.44</td>\n",
       "      <td>37.76</td>\n",
       "      <td>30.0</td>\n",
       "      <td>5089.0</td>\n",
       "      <td>1210.0</td>\n",
       "      <td>1935.0</td>\n",
       "      <td>1139.0</td>\n",
       "      <td>4.6053</td>\n",
       "      <td>386100.0</td>\n",
       "      <td>0</td>\n",
       "      <td>0</td>\n",
       "      <td>0</td>\n",
       "      <td>1</td>\n",
       "      <td>0</td>\n",
       "      <td>True</td>\n",
       "    </tr>\n",
       "    <tr>\n",
       "      <th>2739</th>\n",
       "      <td>-115.57</td>\n",
       "      <td>32.78</td>\n",
       "      <td>25.0</td>\n",
       "      <td>2007.0</td>\n",
       "      <td>301.0</td>\n",
       "      <td>1135.0</td>\n",
       "      <td>332.0</td>\n",
       "      <td>5.1280</td>\n",
       "      <td>99600.0</td>\n",
       "      <td>0</td>\n",
       "      <td>1</td>\n",
       "      <td>0</td>\n",
       "      <td>0</td>\n",
       "      <td>0</td>\n",
       "      <td>False</td>\n",
       "    </tr>\n",
       "    <tr>\n",
       "      <th>10560</th>\n",
       "      <td>-117.70</td>\n",
       "      <td>33.63</td>\n",
       "      <td>23.0</td>\n",
       "      <td>3038.0</td>\n",
       "      <td>473.0</td>\n",
       "      <td>1501.0</td>\n",
       "      <td>436.0</td>\n",
       "      <td>5.5584</td>\n",
       "      <td>241700.0</td>\n",
       "      <td>1</td>\n",
       "      <td>0</td>\n",
       "      <td>0</td>\n",
       "      <td>0</td>\n",
       "      <td>0</td>\n",
       "      <td>True</td>\n",
       "    </tr>\n",
       "    <tr>\n",
       "      <th>20218</th>\n",
       "      <td>-119.24</td>\n",
       "      <td>34.28</td>\n",
       "      <td>41.0</td>\n",
       "      <td>1280.0</td>\n",
       "      <td>240.0</td>\n",
       "      <td>608.0</td>\n",
       "      <td>252.0</td>\n",
       "      <td>4.4038</td>\n",
       "      <td>229100.0</td>\n",
       "      <td>0</td>\n",
       "      <td>0</td>\n",
       "      <td>0</td>\n",
       "      <td>0</td>\n",
       "      <td>1</td>\n",
       "      <td>True</td>\n",
       "    </tr>\n",
       "  </tbody>\n",
       "</table>\n",
       "</div>"
      ],
      "text/plain": [
       "       longitude  latitude  housing_median_age  total_rooms  total_bedrooms  \\\n",
       "16972    -122.31     37.56                45.0       1685.0           321.0   \n",
       "15801    -122.44     37.76                30.0       5089.0          1210.0   \n",
       "2739     -115.57     32.78                25.0       2007.0           301.0   \n",
       "10560    -117.70     33.63                23.0       3038.0           473.0   \n",
       "20218    -119.24     34.28                41.0       1280.0           240.0   \n",
       "\n",
       "       population  households  median_income  median_house_value  \\\n",
       "16972       815.0       314.0         4.2955            309700.0   \n",
       "15801      1935.0      1139.0         4.6053            386100.0   \n",
       "2739       1135.0       332.0         5.1280             99600.0   \n",
       "10560      1501.0       436.0         5.5584            241700.0   \n",
       "20218       608.0       252.0         4.4038            229100.0   \n",
       "\n",
       "       ocean_proximity_<1H OCEAN  ocean_proximity_INLAND  \\\n",
       "16972                          0                       0   \n",
       "15801                          0                       0   \n",
       "2739                           0                       1   \n",
       "10560                          1                       0   \n",
       "20218                          0                       0   \n",
       "\n",
       "       ocean_proximity_ISLAND  ocean_proximity_NEAR BAY  \\\n",
       "16972                       0                         0   \n",
       "15801                       0                         1   \n",
       "2739                        0                         0   \n",
       "10560                       0                         0   \n",
       "20218                       0                         0   \n",
       "\n",
       "       ocean_proximity_NEAR OCEAN  above_median  \n",
       "16972                           1          True  \n",
       "15801                           0          True  \n",
       "2739                            0         False  \n",
       "10560                           0          True  \n",
       "20218                           1          True  "
      ]
     },
     "execution_count": 21,
     "metadata": {},
     "output_type": "execute_result"
    }
   ],
   "source": [
    "data.sample(5)"
   ]
  },
  {
   "cell_type": "code",
   "execution_count": 22,
   "id": "62bf2faa",
   "metadata": {},
   "outputs": [],
   "source": [
    "# Lets now stup features and labels\n",
    "\n",
    "X = data.drop(['median_house_value','above_median'], axis = 1)\n",
    "Y = data['above_median']"
   ]
  },
  {
   "cell_type": "code",
   "execution_count": 24,
   "id": "24874e49",
   "metadata": {},
   "outputs": [
    {
     "data": {
      "text/plain": [
       "Index(['longitude', 'latitude', 'housing_median_age', 'total_rooms',\n",
       "       'total_bedrooms', 'population', 'households', 'median_income',\n",
       "       'ocean_proximity_<1H OCEAN', 'ocean_proximity_INLAND',\n",
       "       'ocean_proximity_ISLAND', 'ocean_proximity_NEAR BAY',\n",
       "       'ocean_proximity_NEAR OCEAN'],\n",
       "      dtype='object')"
      ]
     },
     "execution_count": 24,
     "metadata": {},
     "output_type": "execute_result"
    }
   ],
   "source": [
    "#This is a binary classification probelem our output will be either True or False\n",
    "\n",
    "# True if the house price prediction is above the median\n",
    "# False if the house price prediction is below the median\n",
    "\n",
    "#Below are the features that we'll use to train our logestic regression clsssifier\n",
    "\n",
    "X.columns"
   ]
  },
  {
   "cell_type": "code",
   "execution_count": 25,
   "id": "a3acda1b",
   "metadata": {},
   "outputs": [],
   "source": [
    "from sklearn.model_selection import train_test_split\n",
    "\n",
    "x_train, x_test, y_train, y_test = train_test_split(X, Y, test_size=0.2)"
   ]
  },
  {
   "cell_type": "code",
   "execution_count": 26,
   "id": "888af6c1",
   "metadata": {},
   "outputs": [],
   "source": [
    "from sklearn.linear_model import LogisticRegression\n",
    "\n",
    "logistic_model = LogisticRegression(solver='liblinear').fit(x_train, y_train)\n",
    "\n",
    "#The algorithm to use the optimization problem - the liblinear solver is a good choice for \n",
    "#small datasets and binary classification "
   ]
  },
  {
   "cell_type": "code",
   "execution_count": 27,
   "id": "0ccb484a",
   "metadata": {},
   "outputs": [
    {
     "name": "stdout",
     "output_type": "stream",
     "text": [
      "Training Score :  0.8177150192554558\n"
     ]
    }
   ],
   "source": [
    "print('Training Score : ', logistic_model.score(x_train, y_train))"
   ]
  },
  {
   "cell_type": "code",
   "execution_count": 28,
   "id": "eef92500",
   "metadata": {},
   "outputs": [],
   "source": [
    "y_pred = logistic_model.predict(x_test)"
   ]
  },
  {
   "cell_type": "code",
   "execution_count": 30,
   "id": "4b201845",
   "metadata": {},
   "outputs": [
    {
     "data": {
      "text/html": [
       "<div>\n",
       "<style scoped>\n",
       "    .dataframe tbody tr th:only-of-type {\n",
       "        vertical-align: middle;\n",
       "    }\n",
       "\n",
       "    .dataframe tbody tr th {\n",
       "        vertical-align: top;\n",
       "    }\n",
       "\n",
       "    .dataframe thead th {\n",
       "        text-align: right;\n",
       "    }\n",
       "</style>\n",
       "<table border=\"1\" class=\"dataframe\">\n",
       "  <thead>\n",
       "    <tr style=\"text-align: right;\">\n",
       "      <th></th>\n",
       "      <th>predicted</th>\n",
       "      <th>actual</th>\n",
       "    </tr>\n",
       "  </thead>\n",
       "  <tbody>\n",
       "    <tr>\n",
       "      <th>11886</th>\n",
       "      <td>False</td>\n",
       "      <td>False</td>\n",
       "    </tr>\n",
       "    <tr>\n",
       "      <th>16237</th>\n",
       "      <td>False</td>\n",
       "      <td>False</td>\n",
       "    </tr>\n",
       "    <tr>\n",
       "      <th>16429</th>\n",
       "      <td>True</td>\n",
       "      <td>True</td>\n",
       "    </tr>\n",
       "    <tr>\n",
       "      <th>8131</th>\n",
       "      <td>True</td>\n",
       "      <td>True</td>\n",
       "    </tr>\n",
       "    <tr>\n",
       "      <th>13128</th>\n",
       "      <td>False</td>\n",
       "      <td>False</td>\n",
       "    </tr>\n",
       "    <tr>\n",
       "      <th>13344</th>\n",
       "      <td>False</td>\n",
       "      <td>False</td>\n",
       "    </tr>\n",
       "    <tr>\n",
       "      <th>19717</th>\n",
       "      <td>False</td>\n",
       "      <td>False</td>\n",
       "    </tr>\n",
       "    <tr>\n",
       "      <th>15859</th>\n",
       "      <td>True</td>\n",
       "      <td>True</td>\n",
       "    </tr>\n",
       "    <tr>\n",
       "      <th>4551</th>\n",
       "      <td>False</td>\n",
       "      <td>True</td>\n",
       "    </tr>\n",
       "    <tr>\n",
       "      <th>1854</th>\n",
       "      <td>False</td>\n",
       "      <td>False</td>\n",
       "    </tr>\n",
       "  </tbody>\n",
       "</table>\n",
       "</div>"
      ],
      "text/plain": [
       "       predicted  actual\n",
       "11886      False   False\n",
       "16237      False   False\n",
       "16429       True    True\n",
       "8131        True    True\n",
       "13128      False   False\n",
       "13344      False   False\n",
       "19717      False   False\n",
       "15859       True    True\n",
       "4551       False    True\n",
       "1854       False   False"
      ]
     },
     "execution_count": 30,
     "metadata": {},
     "output_type": "execute_result"
    }
   ],
   "source": [
    "#Create a new dataframe with predicted and actual data\n",
    "\n",
    "df_pred_actual = pd.DataFrame({'predicted' : y_pred, 'actual' : y_test})\n",
    "df_pred_actual.head(10)"
   ]
  },
  {
   "cell_type": "code",
   "execution_count": 31,
   "id": "2c4a669c",
   "metadata": {},
   "outputs": [
    {
     "name": "stdout",
     "output_type": "stream",
     "text": [
      "Testing Score :  0.8272143774069319\n"
     ]
    }
   ],
   "source": [
    "#Accuracy of testing score\n",
    "\n",
    "from sklearn.metrics import accuracy_score\n",
    "\n",
    "print('Testing Score : ', accuracy_score(y_test, y_pred))"
   ]
  },
  {
   "cell_type": "code",
   "execution_count": null,
   "id": "653e170b",
   "metadata": {},
   "outputs": [],
   "source": []
  },
  {
   "cell_type": "code",
   "execution_count": null,
   "id": "0896e691",
   "metadata": {},
   "outputs": [],
   "source": []
  },
  {
   "cell_type": "code",
   "execution_count": null,
   "id": "532c208d",
   "metadata": {},
   "outputs": [],
   "source": []
  }
 ],
 "metadata": {
  "kernelspec": {
   "display_name": "Python 3",
   "language": "python",
   "name": "python3"
  },
  "language_info": {
   "codemirror_mode": {
    "name": "ipython",
    "version": 3
   },
   "file_extension": ".py",
   "mimetype": "text/x-python",
   "name": "python",
   "nbconvert_exporter": "python",
   "pygments_lexer": "ipython3",
   "version": "3.8.10"
  }
 },
 "nbformat": 4,
 "nbformat_minor": 5
}
