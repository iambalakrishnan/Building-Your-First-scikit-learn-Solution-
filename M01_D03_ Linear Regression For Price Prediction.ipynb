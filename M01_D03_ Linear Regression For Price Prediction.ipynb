{
 "cells": [
  {
   "cell_type": "markdown",
   "id": "5521484f",
   "metadata": {},
   "source": [
    "# Linear Regression"
   ]
  },
  {
   "cell_type": "markdown",
   "id": "d04d603c",
   "metadata": {},
   "source": [
    "<h2> y = mx + c</h2><br>\n",
    "\n",
    "The best fit line is the one where the sum of the squares of the length of these dotteed lines are minimum.\n",
    "The term used to refer to this mathematical computation is  the least square error<br>\n",
    "\n",
    "When you training the Machine Learning model you want to minimize the least square error of your linear model<br>\n",
    "\n",
    "You want to find that straight line that fits on your data, which has the minimum value for the least square error<br>\n",
    "\n"
   ]
  },
  {
   "cell_type": "code",
   "execution_count": 1,
   "id": "c941bcbf",
   "metadata": {},
   "outputs": [],
   "source": [
    "import numpy as np\n",
    "import pandas as pd\n",
    "from matplotlib import pyplot as plt\n",
    "import seaborn as sns"
   ]
  },
  {
   "cell_type": "code",
   "execution_count": 3,
   "id": "53f8f85a",
   "metadata": {},
   "outputs": [
    {
     "data": {
      "text/html": [
       "<div>\n",
       "<style scoped>\n",
       "    .dataframe tbody tr th:only-of-type {\n",
       "        vertical-align: middle;\n",
       "    }\n",
       "\n",
       "    .dataframe tbody tr th {\n",
       "        vertical-align: top;\n",
       "    }\n",
       "\n",
       "    .dataframe thead th {\n",
       "        text-align: right;\n",
       "    }\n",
       "</style>\n",
       "<table border=\"1\" class=\"dataframe\">\n",
       "  <thead>\n",
       "    <tr style=\"text-align: right;\">\n",
       "      <th></th>\n",
       "      <th>longitude</th>\n",
       "      <th>latitude</th>\n",
       "      <th>housing_median_age</th>\n",
       "      <th>total_rooms</th>\n",
       "      <th>total_bedrooms</th>\n",
       "      <th>population</th>\n",
       "      <th>households</th>\n",
       "      <th>median_income</th>\n",
       "      <th>median_house_value</th>\n",
       "      <th>ocean_proximity</th>\n",
       "    </tr>\n",
       "  </thead>\n",
       "  <tbody>\n",
       "    <tr>\n",
       "      <th>316</th>\n",
       "      <td>-122.20</td>\n",
       "      <td>37.75</td>\n",
       "      <td>36.0</td>\n",
       "      <td>606.0</td>\n",
       "      <td>132.0</td>\n",
       "      <td>531.0</td>\n",
       "      <td>133.0</td>\n",
       "      <td>1.5809</td>\n",
       "      <td>70000.0</td>\n",
       "      <td>NEAR BAY</td>\n",
       "    </tr>\n",
       "    <tr>\n",
       "      <th>13538</th>\n",
       "      <td>-117.30</td>\n",
       "      <td>34.15</td>\n",
       "      <td>38.0</td>\n",
       "      <td>740.0</td>\n",
       "      <td>163.0</td>\n",
       "      <td>332.0</td>\n",
       "      <td>138.0</td>\n",
       "      <td>2.4107</td>\n",
       "      <td>88000.0</td>\n",
       "      <td>INLAND</td>\n",
       "    </tr>\n",
       "    <tr>\n",
       "      <th>13558</th>\n",
       "      <td>-117.32</td>\n",
       "      <td>34.10</td>\n",
       "      <td>42.0</td>\n",
       "      <td>801.0</td>\n",
       "      <td>176.0</td>\n",
       "      <td>711.0</td>\n",
       "      <td>183.0</td>\n",
       "      <td>1.8681</td>\n",
       "      <td>59700.0</td>\n",
       "      <td>INLAND</td>\n",
       "    </tr>\n",
       "    <tr>\n",
       "      <th>5844</th>\n",
       "      <td>-118.33</td>\n",
       "      <td>34.20</td>\n",
       "      <td>23.0</td>\n",
       "      <td>7179.0</td>\n",
       "      <td>1985.0</td>\n",
       "      <td>4757.0</td>\n",
       "      <td>1924.0</td>\n",
       "      <td>3.1051</td>\n",
       "      <td>206500.0</td>\n",
       "      <td>&lt;1H OCEAN</td>\n",
       "    </tr>\n",
       "    <tr>\n",
       "      <th>2402</th>\n",
       "      <td>-119.34</td>\n",
       "      <td>36.62</td>\n",
       "      <td>26.0</td>\n",
       "      <td>1922.0</td>\n",
       "      <td>339.0</td>\n",
       "      <td>1148.0</td>\n",
       "      <td>332.0</td>\n",
       "      <td>2.6058</td>\n",
       "      <td>92200.0</td>\n",
       "      <td>INLAND</td>\n",
       "    </tr>\n",
       "  </tbody>\n",
       "</table>\n",
       "</div>"
      ],
      "text/plain": [
       "       longitude  latitude  housing_median_age  total_rooms  total_bedrooms  \\\n",
       "316      -122.20     37.75                36.0        606.0           132.0   \n",
       "13538    -117.30     34.15                38.0        740.0           163.0   \n",
       "13558    -117.32     34.10                42.0        801.0           176.0   \n",
       "5844     -118.33     34.20                23.0       7179.0          1985.0   \n",
       "2402     -119.34     36.62                26.0       1922.0           339.0   \n",
       "\n",
       "       population  households  median_income  median_house_value  \\\n",
       "316         531.0       133.0         1.5809             70000.0   \n",
       "13538       332.0       138.0         2.4107             88000.0   \n",
       "13558       711.0       183.0         1.8681             59700.0   \n",
       "5844       4757.0      1924.0         3.1051            206500.0   \n",
       "2402       1148.0       332.0         2.6058             92200.0   \n",
       "\n",
       "      ocean_proximity  \n",
       "316          NEAR BAY  \n",
       "13538          INLAND  \n",
       "13558          INLAND  \n",
       "5844        <1H OCEAN  \n",
       "2402           INLAND  "
      ]
     },
     "execution_count": 3,
     "metadata": {},
     "output_type": "execute_result"
    }
   ],
   "source": [
    "housing_data = pd.read_csv('housing.csv')\n",
    "housing_data.sample(5)"
   ]
  },
  {
   "cell_type": "code",
   "execution_count": 4,
   "id": "98b498e6",
   "metadata": {},
   "outputs": [],
   "source": [
    "#Lets drop missing data\n",
    "\n",
    "housing_data = housing_data.dropna()"
   ]
  },
  {
   "cell_type": "code",
   "execution_count": 5,
   "id": "693ffc08",
   "metadata": {},
   "outputs": [
    {
     "data": {
      "text/plain": [
       "(20433, 10)"
      ]
     },
     "execution_count": 5,
     "metadata": {},
     "output_type": "execute_result"
    }
   ],
   "source": [
    "housing_data.shape"
   ]
  },
  {
   "cell_type": "code",
   "execution_count": 7,
   "id": "7799810a",
   "metadata": {},
   "outputs": [
    {
     "data": {
      "text/plain": [
       "longitude             958\n",
       "latitude              958\n",
       "housing_median_age    958\n",
       "total_rooms           958\n",
       "total_bedrooms        958\n",
       "population            958\n",
       "households            958\n",
       "median_income         958\n",
       "median_house_value    958\n",
       "ocean_proximity       958\n",
       "dtype: int64"
      ]
     },
     "execution_count": 7,
     "metadata": {},
     "output_type": "execute_result"
    }
   ],
   "source": [
    "#Lets see how many records in our dataset has median value of $500001\n",
    "housing_data.loc[housing_data['median_house_value'] ==500001].count()\n"
   ]
  },
  {
   "cell_type": "markdown",
   "id": "52a529b3",
   "metadata": {},
   "source": [
    "Nearly 1000 records has upper cap of house price, Now something like this can really skew the training of our ML modelsso its best to drop these records from our datasets.<br>\n",
    "\n",
    "If you working with skewed datasets where you have lots of data clustered around a single value or in a single class there are of course techniques that you can employ ina real world to work with such data.<br>\n",
    "\n",
    "For our first scikit-learn solution, we want to simply ignore these records"
   ]
  },
  {
   "cell_type": "markdown",
   "id": "cd29c85a",
   "metadata": {},
   "source": [
    "Will first calculate the index position of all of the records with median_house_value equal 500001 and will go ahead and drop these records from our dataset\n"
   ]
  },
  {
   "cell_type": "code",
   "execution_count": 8,
   "id": "07183778",
   "metadata": {},
   "outputs": [],
   "source": [
    "housing_data = housing_data.drop(housing_data.loc[housing_data['median_house_value'] == 500001].index)"
   ]
  },
  {
   "cell_type": "code",
   "execution_count": 9,
   "id": "9b82d512",
   "metadata": {},
   "outputs": [
    {
     "data": {
      "text/plain": [
       "(19475, 10)"
      ]
     },
     "execution_count": 9,
     "metadata": {},
     "output_type": "execute_result"
    }
   ],
   "source": [
    "housing_data.shape"
   ]
  },
  {
   "cell_type": "code",
   "execution_count": 10,
   "id": "c9c489a2",
   "metadata": {},
   "outputs": [
    {
     "data": {
      "text/html": [
       "<div>\n",
       "<style scoped>\n",
       "    .dataframe tbody tr th:only-of-type {\n",
       "        vertical-align: middle;\n",
       "    }\n",
       "\n",
       "    .dataframe tbody tr th {\n",
       "        vertical-align: top;\n",
       "    }\n",
       "\n",
       "    .dataframe thead th {\n",
       "        text-align: right;\n",
       "    }\n",
       "</style>\n",
       "<table border=\"1\" class=\"dataframe\">\n",
       "  <thead>\n",
       "    <tr style=\"text-align: right;\">\n",
       "      <th></th>\n",
       "      <th>longitude</th>\n",
       "      <th>latitude</th>\n",
       "      <th>housing_median_age</th>\n",
       "      <th>total_rooms</th>\n",
       "      <th>total_bedrooms</th>\n",
       "      <th>population</th>\n",
       "      <th>households</th>\n",
       "      <th>median_income</th>\n",
       "      <th>median_house_value</th>\n",
       "      <th>ocean_proximity</th>\n",
       "    </tr>\n",
       "  </thead>\n",
       "  <tbody>\n",
       "  </tbody>\n",
       "</table>\n",
       "</div>"
      ],
      "text/plain": [
       "Empty DataFrame\n",
       "Columns: [longitude, latitude, housing_median_age, total_rooms, total_bedrooms, population, households, median_income, median_house_value, ocean_proximity]\n",
       "Index: []"
      ]
     },
     "execution_count": 10,
     "metadata": {},
     "output_type": "execute_result"
    }
   ],
   "source": [
    "housing_data.loc[housing_data['median_house_value'] == 500001]#cross check and it doesn't have any data"
   ]
  },
  {
   "cell_type": "code",
   "execution_count": 11,
   "id": "5faca600",
   "metadata": {},
   "outputs": [
    {
     "data": {
      "text/html": [
       "<div>\n",
       "<style scoped>\n",
       "    .dataframe tbody tr th:only-of-type {\n",
       "        vertical-align: middle;\n",
       "    }\n",
       "\n",
       "    .dataframe tbody tr th {\n",
       "        vertical-align: top;\n",
       "    }\n",
       "\n",
       "    .dataframe thead th {\n",
       "        text-align: right;\n",
       "    }\n",
       "</style>\n",
       "<table border=\"1\" class=\"dataframe\">\n",
       "  <thead>\n",
       "    <tr style=\"text-align: right;\">\n",
       "      <th></th>\n",
       "      <th>longitude</th>\n",
       "      <th>latitude</th>\n",
       "      <th>housing_median_age</th>\n",
       "      <th>total_rooms</th>\n",
       "      <th>total_bedrooms</th>\n",
       "      <th>population</th>\n",
       "      <th>households</th>\n",
       "      <th>median_income</th>\n",
       "      <th>median_house_value</th>\n",
       "      <th>ocean_proximity</th>\n",
       "    </tr>\n",
       "  </thead>\n",
       "  <tbody>\n",
       "    <tr>\n",
       "      <th>0</th>\n",
       "      <td>-122.23</td>\n",
       "      <td>37.88</td>\n",
       "      <td>41.0</td>\n",
       "      <td>880.0</td>\n",
       "      <td>129.0</td>\n",
       "      <td>322.0</td>\n",
       "      <td>126.0</td>\n",
       "      <td>8.3252</td>\n",
       "      <td>452600.0</td>\n",
       "      <td>NEAR BAY</td>\n",
       "    </tr>\n",
       "    <tr>\n",
       "      <th>1</th>\n",
       "      <td>-122.22</td>\n",
       "      <td>37.86</td>\n",
       "      <td>21.0</td>\n",
       "      <td>7099.0</td>\n",
       "      <td>1106.0</td>\n",
       "      <td>2401.0</td>\n",
       "      <td>1138.0</td>\n",
       "      <td>8.3014</td>\n",
       "      <td>358500.0</td>\n",
       "      <td>NEAR BAY</td>\n",
       "    </tr>\n",
       "    <tr>\n",
       "      <th>2</th>\n",
       "      <td>-122.24</td>\n",
       "      <td>37.85</td>\n",
       "      <td>52.0</td>\n",
       "      <td>1467.0</td>\n",
       "      <td>190.0</td>\n",
       "      <td>496.0</td>\n",
       "      <td>177.0</td>\n",
       "      <td>7.2574</td>\n",
       "      <td>352100.0</td>\n",
       "      <td>NEAR BAY</td>\n",
       "    </tr>\n",
       "    <tr>\n",
       "      <th>3</th>\n",
       "      <td>-122.25</td>\n",
       "      <td>37.85</td>\n",
       "      <td>52.0</td>\n",
       "      <td>1274.0</td>\n",
       "      <td>235.0</td>\n",
       "      <td>558.0</td>\n",
       "      <td>219.0</td>\n",
       "      <td>5.6431</td>\n",
       "      <td>341300.0</td>\n",
       "      <td>NEAR BAY</td>\n",
       "    </tr>\n",
       "    <tr>\n",
       "      <th>4</th>\n",
       "      <td>-122.25</td>\n",
       "      <td>37.85</td>\n",
       "      <td>52.0</td>\n",
       "      <td>1627.0</td>\n",
       "      <td>280.0</td>\n",
       "      <td>565.0</td>\n",
       "      <td>259.0</td>\n",
       "      <td>3.8462</td>\n",
       "      <td>342200.0</td>\n",
       "      <td>NEAR BAY</td>\n",
       "    </tr>\n",
       "  </tbody>\n",
       "</table>\n",
       "</div>"
      ],
      "text/plain": [
       "   longitude  latitude  housing_median_age  total_rooms  total_bedrooms  \\\n",
       "0    -122.23     37.88                41.0        880.0           129.0   \n",
       "1    -122.22     37.86                21.0       7099.0          1106.0   \n",
       "2    -122.24     37.85                52.0       1467.0           190.0   \n",
       "3    -122.25     37.85                52.0       1274.0           235.0   \n",
       "4    -122.25     37.85                52.0       1627.0           280.0   \n",
       "\n",
       "   population  households  median_income  median_house_value ocean_proximity  \n",
       "0       322.0       126.0         8.3252            452600.0        NEAR BAY  \n",
       "1      2401.0      1138.0         8.3014            358500.0        NEAR BAY  \n",
       "2       496.0       177.0         7.2574            352100.0        NEAR BAY  \n",
       "3       558.0       219.0         5.6431            341300.0        NEAR BAY  \n",
       "4       565.0       259.0         3.8462            342200.0        NEAR BAY  "
      ]
     },
     "execution_count": 11,
     "metadata": {},
     "output_type": "execute_result"
    }
   ],
   "source": [
    "housing_data.head()"
   ]
  },
  {
   "cell_type": "code",
   "execution_count": 14,
   "id": "795cf62e",
   "metadata": {},
   "outputs": [
    {
     "data": {
      "text/plain": [
       "array(['NEAR BAY', '<1H OCEAN', 'INLAND', 'NEAR OCEAN', 'ISLAND'],\n",
       "      dtype=object)"
      ]
     },
     "execution_count": 14,
     "metadata": {},
     "output_type": "execute_result"
    }
   ],
   "source": [
    "housing_data['ocean_proximity'].unique()"
   ]
  },
  {
   "cell_type": "code",
   "execution_count": 15,
   "id": "f4fdede1",
   "metadata": {},
   "outputs": [],
   "source": [
    "#ML models can only work with numeric data\n",
    "#Convert categorical values to numeric values using one-hot encoding \n",
    "\n",
    "housing_data = pd.get_dummies(housing_data, columns = ['ocean_proximity'])\n",
    "#pd.get_dummies will convert column ocean_proximity to one-hot form anf remove original data from your dataset"
   ]
  },
  {
   "cell_type": "code",
   "execution_count": 16,
   "id": "ef84705f",
   "metadata": {},
   "outputs": [
    {
     "data": {
      "text/plain": [
       "(19475, 14)"
      ]
     },
     "execution_count": 16,
     "metadata": {},
     "output_type": "execute_result"
    }
   ],
   "source": [
    "housing_data.shape#columns have been changed to 14 because one-hot encoding "
   ]
  },
  {
   "cell_type": "code",
   "execution_count": 17,
   "id": "9e624b1a",
   "metadata": {},
   "outputs": [
    {
     "data": {
      "text/html": [
       "<div>\n",
       "<style scoped>\n",
       "    .dataframe tbody tr th:only-of-type {\n",
       "        vertical-align: middle;\n",
       "    }\n",
       "\n",
       "    .dataframe tbody tr th {\n",
       "        vertical-align: top;\n",
       "    }\n",
       "\n",
       "    .dataframe thead th {\n",
       "        text-align: right;\n",
       "    }\n",
       "</style>\n",
       "<table border=\"1\" class=\"dataframe\">\n",
       "  <thead>\n",
       "    <tr style=\"text-align: right;\">\n",
       "      <th></th>\n",
       "      <th>longitude</th>\n",
       "      <th>latitude</th>\n",
       "      <th>housing_median_age</th>\n",
       "      <th>total_rooms</th>\n",
       "      <th>total_bedrooms</th>\n",
       "      <th>population</th>\n",
       "      <th>households</th>\n",
       "      <th>median_income</th>\n",
       "      <th>median_house_value</th>\n",
       "      <th>ocean_proximity_&lt;1H OCEAN</th>\n",
       "      <th>ocean_proximity_INLAND</th>\n",
       "      <th>ocean_proximity_ISLAND</th>\n",
       "      <th>ocean_proximity_NEAR BAY</th>\n",
       "      <th>ocean_proximity_NEAR OCEAN</th>\n",
       "    </tr>\n",
       "  </thead>\n",
       "  <tbody>\n",
       "    <tr>\n",
       "      <th>4273</th>\n",
       "      <td>-118.32</td>\n",
       "      <td>34.09</td>\n",
       "      <td>34.0</td>\n",
       "      <td>2473.0</td>\n",
       "      <td>1171.0</td>\n",
       "      <td>2655.0</td>\n",
       "      <td>1083.0</td>\n",
       "      <td>1.6331</td>\n",
       "      <td>162500.0</td>\n",
       "      <td>1</td>\n",
       "      <td>0</td>\n",
       "      <td>0</td>\n",
       "      <td>0</td>\n",
       "      <td>0</td>\n",
       "    </tr>\n",
       "    <tr>\n",
       "      <th>9945</th>\n",
       "      <td>-122.39</td>\n",
       "      <td>38.37</td>\n",
       "      <td>33.0</td>\n",
       "      <td>1066.0</td>\n",
       "      <td>191.0</td>\n",
       "      <td>403.0</td>\n",
       "      <td>163.0</td>\n",
       "      <td>6.8000</td>\n",
       "      <td>240800.0</td>\n",
       "      <td>1</td>\n",
       "      <td>0</td>\n",
       "      <td>0</td>\n",
       "      <td>0</td>\n",
       "      <td>0</td>\n",
       "    </tr>\n",
       "    <tr>\n",
       "      <th>18694</th>\n",
       "      <td>-122.39</td>\n",
       "      <td>40.59</td>\n",
       "      <td>26.0</td>\n",
       "      <td>1279.0</td>\n",
       "      <td>438.0</td>\n",
       "      <td>1276.0</td>\n",
       "      <td>420.0</td>\n",
       "      <td>1.2404</td>\n",
       "      <td>81300.0</td>\n",
       "      <td>0</td>\n",
       "      <td>1</td>\n",
       "      <td>0</td>\n",
       "      <td>0</td>\n",
       "      <td>0</td>\n",
       "    </tr>\n",
       "    <tr>\n",
       "      <th>14450</th>\n",
       "      <td>-117.24</td>\n",
       "      <td>32.81</td>\n",
       "      <td>34.0</td>\n",
       "      <td>2420.0</td>\n",
       "      <td>391.0</td>\n",
       "      <td>917.0</td>\n",
       "      <td>392.0</td>\n",
       "      <td>6.5881</td>\n",
       "      <td>394400.0</td>\n",
       "      <td>0</td>\n",
       "      <td>0</td>\n",
       "      <td>0</td>\n",
       "      <td>0</td>\n",
       "      <td>1</td>\n",
       "    </tr>\n",
       "    <tr>\n",
       "      <th>16090</th>\n",
       "      <td>-122.48</td>\n",
       "      <td>37.72</td>\n",
       "      <td>45.0</td>\n",
       "      <td>1405.0</td>\n",
       "      <td>338.0</td>\n",
       "      <td>733.0</td>\n",
       "      <td>342.0</td>\n",
       "      <td>4.1116</td>\n",
       "      <td>187500.0</td>\n",
       "      <td>0</td>\n",
       "      <td>0</td>\n",
       "      <td>0</td>\n",
       "      <td>0</td>\n",
       "      <td>1</td>\n",
       "    </tr>\n",
       "  </tbody>\n",
       "</table>\n",
       "</div>"
      ],
      "text/plain": [
       "       longitude  latitude  housing_median_age  total_rooms  total_bedrooms  \\\n",
       "4273     -118.32     34.09                34.0       2473.0          1171.0   \n",
       "9945     -122.39     38.37                33.0       1066.0           191.0   \n",
       "18694    -122.39     40.59                26.0       1279.0           438.0   \n",
       "14450    -117.24     32.81                34.0       2420.0           391.0   \n",
       "16090    -122.48     37.72                45.0       1405.0           338.0   \n",
       "\n",
       "       population  households  median_income  median_house_value  \\\n",
       "4273       2655.0      1083.0         1.6331            162500.0   \n",
       "9945        403.0       163.0         6.8000            240800.0   \n",
       "18694      1276.0       420.0         1.2404             81300.0   \n",
       "14450       917.0       392.0         6.5881            394400.0   \n",
       "16090       733.0       342.0         4.1116            187500.0   \n",
       "\n",
       "       ocean_proximity_<1H OCEAN  ocean_proximity_INLAND  \\\n",
       "4273                           1                       0   \n",
       "9945                           1                       0   \n",
       "18694                          0                       1   \n",
       "14450                          0                       0   \n",
       "16090                          0                       0   \n",
       "\n",
       "       ocean_proximity_ISLAND  ocean_proximity_NEAR BAY  \\\n",
       "4273                        0                         0   \n",
       "9945                        0                         0   \n",
       "18694                       0                         0   \n",
       "14450                       0                         0   \n",
       "16090                       0                         0   \n",
       "\n",
       "       ocean_proximity_NEAR OCEAN  \n",
       "4273                            0  \n",
       "9945                            0  \n",
       "18694                           0  \n",
       "14450                           1  \n",
       "16090                           1  "
      ]
     },
     "execution_count": 17,
     "metadata": {},
     "output_type": "execute_result"
    }
   ],
   "source": [
    "housing_data.sample(5)"
   ]
  },
  {
   "cell_type": "code",
   "execution_count": 18,
   "id": "86038ad0",
   "metadata": {},
   "outputs": [],
   "source": [
    "#Having converted all of our features into right form to feed into machine learning model \n",
    "#We are now finally ready to set up the features and targets for our model\n",
    "\n",
    "#Features\n",
    "X = housing_data.drop('median_house_value', axis=1) #Median_house_value is target so ignoring \n",
    "#Predictions or target of our ML model\n",
    "Y = housing_data['median_house_value']"
   ]
  },
  {
   "cell_type": "code",
   "execution_count": 19,
   "id": "abb842cd",
   "metadata": {},
   "outputs": [
    {
     "data": {
      "text/plain": [
       "Index(['longitude', 'latitude', 'housing_median_age', 'total_rooms',\n",
       "       'total_bedrooms', 'population', 'households', 'median_income',\n",
       "       'ocean_proximity_<1H OCEAN', 'ocean_proximity_INLAND',\n",
       "       'ocean_proximity_ISLAND', 'ocean_proximity_NEAR BAY',\n",
       "       'ocean_proximity_NEAR OCEAN'],\n",
       "      dtype='object')"
      ]
     },
     "execution_count": 19,
     "metadata": {},
     "output_type": "execute_result"
    }
   ],
   "source": [
    "X.columns"
   ]
  },
  {
   "cell_type": "markdown",
   "id": "58e00725",
   "metadata": {},
   "source": [
    "The test data is used to measure how well the trained model performs on instances it has never seen before, the common practice is split to our dataset into testset and trainingset <br>\n",
    "\n",
    "The training set is what you'll use to train your model parameters. Thats what you'll use to build your model.<br>\n",
    "\n",
    "The test data is a little bit of your original dataset that you'll hold out that you won't let your model see during the training phase \n"
   ]
  },
  {
   "cell_type": "code",
   "execution_count": 20,
   "id": "2764d3ac",
   "metadata": {},
   "outputs": [],
   "source": [
    "from sklearn.model_selection import train_test_split"
   ]
  },
  {
   "cell_type": "code",
   "execution_count": 21,
   "id": "f6e35339",
   "metadata": {},
   "outputs": [],
   "source": [
    "x_train, x_test, y_train, y_test = train_test_split(X, Y, test_size=0.2)#80/20\n",
    "\n",
    "# x_train contains features of your training data\n",
    "# y_train will contain corresponding target data\n",
    "\n",
    "# x_test will have all of the records for your test data\n",
    "# y_test contains actual target for your test data"
   ]
  },
  {
   "cell_type": "markdown",
   "id": "21c8ef8e",
   "metadata": {},
   "source": [
    "In addition to splitting your data into test set and training set train_test_split will also  shuffle the records in your dataset.<br>\n",
    "\n",
    "Shuffling your dataset is an important step because your machine learning model sgould not pick up inadvertant patterns in your data"
   ]
  },
  {
   "cell_type": "code",
   "execution_count": 23,
   "id": "14a3fc76",
   "metadata": {},
   "outputs": [
    {
     "data": {
      "text/plain": [
       "((15580, 13), (3895, 13))"
      ]
     },
     "execution_count": 23,
     "metadata": {},
     "output_type": "execute_result"
    }
   ],
   "source": [
    "x_train.shape, x_test.shape"
   ]
  },
  {
   "cell_type": "code",
   "execution_count": 24,
   "id": "3eb06f2d",
   "metadata": {},
   "outputs": [
    {
     "data": {
      "text/plain": [
       "((15580,), (3895,))"
      ]
     },
     "execution_count": 24,
     "metadata": {},
     "output_type": "execute_result"
    }
   ],
   "source": [
    "y_train.shape, y_test.shape"
   ]
  },
  {
   "cell_type": "code",
   "execution_count": 34,
   "id": "3aa45c4a",
   "metadata": {},
   "outputs": [],
   "source": [
    "#Invoke LinearRegression estimator object\n",
    "\n",
    "from sklearn.linear_model import LinearRegression\n",
    "\n",
    "linear_model = LinearRegression(normalize=True).fit(x_train, y_train)\n",
    "#fit()--> Fit the linear model on the training data.i.e train the linear model using our features and target values\n",
    "# Normalization scales all numeric features to be between 0 and 1.\n",
    "# Having features in the same scale can vastly improve the performance of your ML model"
   ]
  },
  {
   "cell_type": "code",
   "execution_count": 35,
   "id": "f0533599",
   "metadata": {},
   "outputs": [
    {
     "name": "stdout",
     "output_type": "stream",
     "text": [
      "Training Score :  0.6160688999009314\n"
     ]
    }
   ],
   "source": [
    "print('Training Score : ', linear_model.score(x_train, y_train))#score functino will evaluate the model\n"
   ]
  },
  {
   "cell_type": "markdown",
   "id": "905946c9",
   "metadata": {},
   "source": [
    "R-square is a measure of how well our linear model captures the underlying variation in our training data, beacuse this is a linear regresion model the training score is the R-squared"
   ]
  },
  {
   "cell_type": "code",
   "execution_count": 36,
   "id": "a65c1c20",
   "metadata": {},
   "outputs": [],
   "source": [
    "predictors = x_train.columns"
   ]
  },
  {
   "cell_type": "code",
   "execution_count": 28,
   "id": "17116e35",
   "metadata": {},
   "outputs": [
    {
     "data": {
      "text/plain": [
       "Index(['longitude', 'latitude', 'housing_median_age', 'total_rooms',\n",
       "       'total_bedrooms', 'population', 'households', 'median_income',\n",
       "       'ocean_proximity_<1H OCEAN', 'ocean_proximity_INLAND',\n",
       "       'ocean_proximity_ISLAND', 'ocean_proximity_NEAR BAY',\n",
       "       'ocean_proximity_NEAR OCEAN'],\n",
       "      dtype='object')"
      ]
     },
     "execution_count": 28,
     "metadata": {},
     "output_type": "execute_result"
    }
   ],
   "source": [
    "predictors"
   ]
  },
  {
   "cell_type": "code",
   "execution_count": 30,
   "id": "deb49505",
   "metadata": {},
   "outputs": [],
   "source": [
    " pd.options.display.float_format = \"{:.2f}\".format"
   ]
  },
  {
   "cell_type": "code",
   "execution_count": 37,
   "id": "16715bbe",
   "metadata": {},
   "outputs": [
    {
     "name": "stdout",
     "output_type": "stream",
     "text": [
      "ocean_proximity_INLAND       -503527692152889024.00\n",
      "ocean_proximity_NEAR BAY     -503527692152856704.00\n",
      "ocean_proximity_<1H OCEAN    -503527692152849728.00\n",
      "ocean_proximity_NEAR OCEAN   -503527692152846016.00\n",
      "ocean_proximity_ISLAND       -503527692152702400.00\n",
      "longitude                                 -24917.10\n",
      "latitude                                  -23026.42\n",
      "population                                   -29.93\n",
      "total_rooms                                   -6.54\n",
      "households                                    42.62\n",
      "total_bedrooms                                87.87\n",
      "housing_median_age                           927.49\n",
      "median_income                              38077.05\n",
      "dtype: float64\n"
     ]
    }
   ],
   "source": [
    "#Find coefficient \n",
    "#name of the features and corresponding coefficients \n",
    "\n",
    "coef = pd.Series(linear_model.coef_, predictors).sort_values()\n",
    "print(coef)"
   ]
  },
  {
   "cell_type": "code",
   "execution_count": 38,
   "id": "9e42cc42",
   "metadata": {},
   "outputs": [],
   "source": [
    "#We have fully trained linear regression model lets use it to predict something \n",
    "\n",
    "y_pred = linear_model.predict(x_test)"
   ]
  },
  {
   "cell_type": "code",
   "execution_count": 39,
   "id": "7816bdb8",
   "metadata": {},
   "outputs": [
    {
     "data": {
      "text/html": [
       "<div>\n",
       "<style scoped>\n",
       "    .dataframe tbody tr th:only-of-type {\n",
       "        vertical-align: middle;\n",
       "    }\n",
       "\n",
       "    .dataframe tbody tr th {\n",
       "        vertical-align: top;\n",
       "    }\n",
       "\n",
       "    .dataframe thead th {\n",
       "        text-align: right;\n",
       "    }\n",
       "</style>\n",
       "<table border=\"1\" class=\"dataframe\">\n",
       "  <thead>\n",
       "    <tr style=\"text-align: right;\">\n",
       "      <th></th>\n",
       "      <th>predicted</th>\n",
       "      <th>actual</th>\n",
       "    </tr>\n",
       "  </thead>\n",
       "  <tbody>\n",
       "    <tr>\n",
       "      <th>1867</th>\n",
       "      <td>38720.00</td>\n",
       "      <td>187500.00</td>\n",
       "    </tr>\n",
       "    <tr>\n",
       "      <th>3282</th>\n",
       "      <td>89600.00</td>\n",
       "      <td>66800.00</td>\n",
       "    </tr>\n",
       "    <tr>\n",
       "      <th>11571</th>\n",
       "      <td>212992.00</td>\n",
       "      <td>191900.00</td>\n",
       "    </tr>\n",
       "    <tr>\n",
       "      <th>18430</th>\n",
       "      <td>282240.00</td>\n",
       "      <td>265700.00</td>\n",
       "    </tr>\n",
       "    <tr>\n",
       "      <th>698</th>\n",
       "      <td>218880.00</td>\n",
       "      <td>160900.00</td>\n",
       "    </tr>\n",
       "    <tr>\n",
       "      <th>1597</th>\n",
       "      <td>248768.00</td>\n",
       "      <td>279500.00</td>\n",
       "    </tr>\n",
       "    <tr>\n",
       "      <th>14534</th>\n",
       "      <td>214784.00</td>\n",
       "      <td>171200.00</td>\n",
       "    </tr>\n",
       "    <tr>\n",
       "      <th>12249</th>\n",
       "      <td>116416.00</td>\n",
       "      <td>95900.00</td>\n",
       "    </tr>\n",
       "    <tr>\n",
       "      <th>13875</th>\n",
       "      <td>84800.00</td>\n",
       "      <td>98200.00</td>\n",
       "    </tr>\n",
       "    <tr>\n",
       "      <th>1300</th>\n",
       "      <td>152384.00</td>\n",
       "      <td>97300.00</td>\n",
       "    </tr>\n",
       "  </tbody>\n",
       "</table>\n",
       "</div>"
      ],
      "text/plain": [
       "       predicted    actual\n",
       "1867    38720.00 187500.00\n",
       "3282    89600.00  66800.00\n",
       "11571  212992.00 191900.00\n",
       "18430  282240.00 265700.00\n",
       "698    218880.00 160900.00\n",
       "1597   248768.00 279500.00\n",
       "14534  214784.00 171200.00\n",
       "12249  116416.00  95900.00\n",
       "13875   84800.00  98200.00\n",
       "1300   152384.00  97300.00"
      ]
     },
     "execution_count": 39,
     "metadata": {},
     "output_type": "execute_result"
    }
   ],
   "source": [
    "#How did our model perform? lets create a little dataframe which compares our predicted values with actual values\n",
    "# in our dataset\n",
    "\n",
    "df_pred_actual = pd.DataFrame({'predicted' : y_pred, 'actual' : y_test})\n",
    "\n",
    "df_pred_actual.head(10)"
   ]
  },
  {
   "cell_type": "code",
   "execution_count": 40,
   "id": "c9369a8d",
   "metadata": {},
   "outputs": [
    {
     "name": "stdout",
     "output_type": "stream",
     "text": [
      "Testing_score :  0.5999094989109445\n"
     ]
    }
   ],
   "source": [
    "#Eyeballing the data is good when you want to double check your predictions \n",
    "# The Best way to evaluate a model is calculate an R- squared score on your test data\n",
    "\n",
    "from sklearn.metrics import r2_score\n",
    "\n",
    "print('Testing_score : ', r2_score(y_test, y_pred))"
   ]
  },
  {
   "cell_type": "code",
   "execution_count": 41,
   "id": "6c573d2a",
   "metadata": {},
   "outputs": [
    {
     "data": {
      "image/png": "[encoded data removed]",
      "text/plain": [
       "<Figure size 864x576 with 1 Axes>"
      ]
     },
     "metadata": {
      "needs_background": "light"
     },
     "output_type": "display_data"
    }
   ],
   "source": [
    "fig, ax = plt.subplots(figsize = (12,8))\n",
    "\n",
    "plt.scatter(y_test, y_pred)\n",
    "plt.show()"
   ]
  },
  {
   "cell_type": "code",
   "execution_count": 42,
   "id": "e381dbcc",
   "metadata": {},
   "outputs": [],
   "source": [
    "#Our test data has nearly 4k records now lets sample 100 of these predictions versus \n",
    "#actual values from the original dataframe\n",
    "\n",
    "df_pred_actual_sample = df_pred_actual.sample(100)\n",
    "df_pred_actual_sample = df_pred_actual_sample.reset_index()"
   ]
  },
  {
   "cell_type": "code",
   "execution_count": 43,
   "id": "83d4f2fa",
   "metadata": {},
   "outputs": [
    {
     "data": {
      "text/html": [
       "<div>\n",
       "<style scoped>\n",
       "    .dataframe tbody tr th:only-of-type {\n",
       "        vertical-align: middle;\n",
       "    }\n",
       "\n",
       "    .dataframe tbody tr th {\n",
       "        vertical-align: top;\n",
       "    }\n",
       "\n",
       "    .dataframe thead th {\n",
       "        text-align: right;\n",
       "    }\n",
       "</style>\n",
       "<table border=\"1\" class=\"dataframe\">\n",
       "  <thead>\n",
       "    <tr style=\"text-align: right;\">\n",
       "      <th></th>\n",
       "      <th>index</th>\n",
       "      <th>predicted</th>\n",
       "      <th>actual</th>\n",
       "    </tr>\n",
       "  </thead>\n",
       "  <tbody>\n",
       "    <tr>\n",
       "      <th>0</th>\n",
       "      <td>17207</td>\n",
       "      <td>256256.00</td>\n",
       "      <td>357400.00</td>\n",
       "    </tr>\n",
       "    <tr>\n",
       "      <th>1</th>\n",
       "      <td>19238</td>\n",
       "      <td>246656.00</td>\n",
       "      <td>265200.00</td>\n",
       "    </tr>\n",
       "    <tr>\n",
       "      <th>2</th>\n",
       "      <td>10381</td>\n",
       "      <td>216128.00</td>\n",
       "      <td>238000.00</td>\n",
       "    </tr>\n",
       "    <tr>\n",
       "      <th>3</th>\n",
       "      <td>7503</td>\n",
       "      <td>133568.00</td>\n",
       "      <td>93300.00</td>\n",
       "    </tr>\n",
       "    <tr>\n",
       "      <th>4</th>\n",
       "      <td>6570</td>\n",
       "      <td>232576.00</td>\n",
       "      <td>238900.00</td>\n",
       "    </tr>\n",
       "  </tbody>\n",
       "</table>\n",
       "</div>"
      ],
      "text/plain": [
       "   index  predicted    actual\n",
       "0  17207  256256.00 357400.00\n",
       "1  19238  246656.00 265200.00\n",
       "2  10381  216128.00 238000.00\n",
       "3   7503  133568.00  93300.00\n",
       "4   6570  232576.00 238900.00"
      ]
     },
     "execution_count": 43,
     "metadata": {},
     "output_type": "execute_result"
    }
   ],
   "source": [
    "df_pred_actual_sample.head()"
   ]
  },
  {
   "cell_type": "code",
   "execution_count": 44,
   "id": "1b8d5cf5",
   "metadata": {},
   "outputs": [
    {
     "data": {
      "image/png": "[encoded data removed]",
      "text/plain": [
       "<Figure size 1440x720 with 1 Axes>"
      ]
     },
     "metadata": {
      "needs_background": "light"
     },
     "output_type": "display_data"
    }
   ],
   "source": [
    "#Lets plto actual vs predicted values\n",
    "\n",
    "plt.figure(figsize=(20,10))\n",
    "plt.plot(df_pred_actual_sample['predicted'], label='Predicted')\n",
    "plt.plot(df_pred_actual_sample['actual'], label='Actual')\n",
    "\n",
    "plt.ylabel('Median house value')\n",
    "plt.legend()\n",
    "\n",
    "plt.show()"
   ]
  },
  {
   "cell_type": "code",
   "execution_count": null,
   "id": "0b59a825",
   "metadata": {},
   "outputs": [],
   "source": []
  }
 ],
 "metadata": {
  "kernelspec": {
   "display_name": "Python 3",
   "language": "python",
   "name": "python3"
  },
  "language_info": {
   "codemirror_mode": {
    "name": "ipython",
    "version": 3
   },
   "file_extension": ".py",
   "mimetype": "text/x-python",
   "name": "python",
   "nbconvert_exporter": "python",
   "pygments_lexer": "ipython3",
   "version": "3.8.10"
  }
 },
 "nbformat": 4,
 "nbformat_minor": 5
}
